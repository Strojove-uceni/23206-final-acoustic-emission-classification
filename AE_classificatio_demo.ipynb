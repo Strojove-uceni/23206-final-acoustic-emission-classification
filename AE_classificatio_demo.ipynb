{
  "nbformat": 4,
  "nbformat_minor": 0,
  "metadata": {
    "colab": {
      "provenance": [],
      "authorship_tag": "ABX9TyMiIhFZc+gE7l7qpQFinpRG",
      "include_colab_link": true
    },
    "kernelspec": {
      "name": "python3",
      "display_name": "Python 3"
    },
    "language_info": {
      "name": "python"
    }
  },
  "cells": [
    {
      "cell_type": "markdown",
      "metadata": {
        "id": "view-in-github",
        "colab_type": "text"
      },
      "source": [
        "<a href=\"https://colab.research.google.com/github/Strojove-uceni/23206-final-acoustic-emission-classification/blob/main/AE_classificatio_demo.ipynb\" target=\"_parent\"><img src=\"https://colab.research.google.com/assets/colab-badge.svg\" alt=\"Open In Colab\"/></a>"
      ]
    },
    {
      "cell_type": "code",
      "execution_count": 10,
      "metadata": {
        "id": "QJnvvEiD-w9D"
      },
      "outputs": [],
      "source": [
        "# @title Imports and Helper Functions\n",
        "%%capture\n",
        "!pip install lightning\n",
        "!pip3 install wandb\n",
        "\n",
        "import torch\n",
        "import torch.nn as nn\n",
        "import torch.nn.functional as F\n",
        "import pytorch_lightning as pl\n",
        "import numpy as np\n",
        "import pickle\n",
        "import matplotlib.pyplot as plt\n",
        "import pandas as pd\n",
        "import wandb\n",
        "import requests\n",
        "\n",
        "\n",
        "from torch.utils.data import DataLoader, TensorDataset, random_split\n",
        "from torch.utils.data import Dataset, DataLoader\n",
        "from lightning.pytorch.loggers import WandbLogger\n",
        "from sklearn.model_selection import train_test_split\n",
        "from torchmetrics.classification import Accuracy, MulticlassConfusionMatrix\n",
        "from pytorch_lightning.utilities.model_summary import ModelSummary\n",
        "from torch import argmax\n",
        "from sklearn.preprocessing import StandardScaler\n",
        "\n"
      ]
    },
    {
      "cell_type": "code",
      "source": [
        "!ls"
      ],
      "metadata": {
        "colab": {
          "base_uri": "https://localhost:8080/"
        },
        "id": "77Wnpv2GJ5dE",
        "outputId": "90f32c9a-f21e-4897-8e0c-36f451f9cac5"
      },
      "execution_count": 15,
      "outputs": [
        {
          "output_type": "stream",
          "name": "stdout",
          "text": [
            "sample_data\n"
          ]
        }
      ]
    },
    {
      "cell_type": "code",
      "source": [
        "path = 'Test_dataset_seed=43.pkl'\n",
        "with open(path, 'rb') as pickle_file:\n",
        "            loaded_data = pickle.load(pickle_file)"
      ],
      "metadata": {
        "colab": {
          "base_uri": "https://localhost:8080/",
          "height": 211
        },
        "id": "mxo_-3KiJuzD",
        "outputId": "e69b2bfd-1cc5-49dd-eb57-f7d6a0e21408"
      },
      "execution_count": 13,
      "outputs": [
        {
          "output_type": "error",
          "ename": "FileNotFoundError",
          "evalue": "ignored",
          "traceback": [
            "\u001b[0;31m---------------------------------------------------------------------------\u001b[0m",
            "\u001b[0;31mFileNotFoundError\u001b[0m                         Traceback (most recent call last)",
            "\u001b[0;32m<ipython-input-13-858629d60d26>\u001b[0m in \u001b[0;36m<cell line: 2>\u001b[0;34m()\u001b[0m\n\u001b[1;32m      1\u001b[0m \u001b[0mpath\u001b[0m \u001b[0;34m=\u001b[0m \u001b[0;34m'Test_dataset_seed=43.pkl'\u001b[0m\u001b[0;34m\u001b[0m\u001b[0;34m\u001b[0m\u001b[0m\n\u001b[0;32m----> 2\u001b[0;31m \u001b[0;32mwith\u001b[0m \u001b[0mopen\u001b[0m\u001b[0;34m(\u001b[0m\u001b[0mpath\u001b[0m\u001b[0;34m,\u001b[0m \u001b[0;34m'rb'\u001b[0m\u001b[0;34m)\u001b[0m \u001b[0;32mas\u001b[0m \u001b[0mpickle_file\u001b[0m\u001b[0;34m:\u001b[0m\u001b[0;34m\u001b[0m\u001b[0;34m\u001b[0m\u001b[0m\n\u001b[0m\u001b[1;32m      3\u001b[0m             \u001b[0mloaded_data\u001b[0m \u001b[0;34m=\u001b[0m \u001b[0mpickle\u001b[0m\u001b[0;34m.\u001b[0m\u001b[0mload\u001b[0m\u001b[0;34m(\u001b[0m\u001b[0mpickle_file\u001b[0m\u001b[0;34m)\u001b[0m\u001b[0;34m\u001b[0m\u001b[0;34m\u001b[0m\u001b[0m\n",
            "\u001b[0;31mFileNotFoundError\u001b[0m: [Errno 2] No such file or directory: 'Test_dataset_seed=43.pkl'"
          ]
        }
      ]
    },
    {
      "cell_type": "code",
      "source": [
        "https://github.com/Strojove-uceni/23206-final-acoustic-emission-classification/blob/4d883d69be467b9a3000333b7d111316cf924274/Test_dataset_seed%3D43.pkl"
      ],
      "metadata": {
        "id": "3qE2U49_JX8B"
      },
      "execution_count": null,
      "outputs": []
    },
    {
      "cell_type": "code",
      "source": [
        "# URL of the pickle file\n",
        "pickle_url = 'https://drive.usercontent.google.com/download?id=1bGqGfhn6hvLM8ih7Pbyaj86J9ibW3Z0T&export=download&authuser=0&confirm=t&uuid=7c1e55f2-8ffa-4218-a253-343906c53404&at=APZUnTW6SlFgYvEhngD90J_NyUEh:1702335310757'\n",
        "#pickle_url = 'https://github.com/Strojove-uceni/23206-final-acoustic-emission-classification/blob/4d883d69be467b9a3000333b7d111316cf924274/Test_dataset_seed%3D43.pkl'\n",
        "\n",
        "# Send a GET request to the URL\n",
        "response = requests.get(pickle_url)\n",
        "\n",
        "# Check if the request was successful (status code 200)\n",
        "if response.status_code == 200:\n",
        "    # Read the content of the response as bytes\n",
        "    content = response.content\n",
        "\n",
        "    # Load the pickle file from the content\n",
        "    loaded_data = pickle.loads(content)\n",
        "    X_test = loaded_data['X_test']\n",
        "    X_test = np.moveaxis(X_test,1,2)\n",
        "    y_test = loaded_data['y_test']\n",
        "else:\n",
        "    print(\"Failed to retrieve the file\")\n"
      ],
      "metadata": {
        "id": "v_HzKJj2FQHg"
      },
      "execution_count": 12,
      "outputs": []
    },
    {
      "cell_type": "code",
      "source": [
        "X_test.shape"
      ],
      "metadata": {
        "colab": {
          "base_uri": "https://localhost:8080/"
        },
        "id": "fX5fPbfXF0VO",
        "outputId": "d48cab82-1917-403d-dd61-8e9fd628cc01"
      },
      "execution_count": 9,
      "outputs": [
        {
          "output_type": "execute_result",
          "data": {
            "text/plain": [
              "(1250, 4, 6000)"
            ]
          },
          "metadata": {},
          "execution_count": 9
        }
      ]
    }
  ]
}