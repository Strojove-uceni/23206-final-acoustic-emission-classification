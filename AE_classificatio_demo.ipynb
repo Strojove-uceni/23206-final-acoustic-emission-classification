{
  "nbformat": 4,
  "nbformat_minor": 0,
  "metadata": {
    "colab": {
      "provenance": [],
      "authorship_tag": "ABX9TyMOF2nho9otIoJcIaMeCIgM",
      "include_colab_link": true
    },
    "kernelspec": {
      "name": "python3",
      "display_name": "Python 3"
    },
    "language_info": {
      "name": "python"
    }
  },
  "cells": [
    {
      "cell_type": "markdown",
      "metadata": {
        "id": "view-in-github",
        "colab_type": "text"
      },
      "source": [
        "<a href=\"https://colab.research.google.com/github/Strojove-uceni/23206-final-acoustic-emission-classification/blob/main/AE_classificatio_demo.ipynb\" target=\"_parent\"><img src=\"https://colab.research.google.com/assets/colab-badge.svg\" alt=\"Open In Colab\"/></a>"
      ]
    },
    {
      "cell_type": "code",
      "execution_count": 1,
      "metadata": {
        "id": "QJnvvEiD-w9D"
      },
      "outputs": [],
      "source": [
        "# @title Imports and Helper Functions\n",
        "%%capture\n",
        "!pip install lightning\n",
        "!pip3 install wandb\n",
        "\n",
        "import torch\n",
        "import torch.nn as nn\n",
        "import torch.nn.functional as F\n",
        "import pytorch_lightning as pl\n",
        "import numpy as np\n",
        "import pickle\n",
        "import matplotlib.pyplot as plt\n",
        "import pandas as pd\n",
        "import wandb\n",
        "import requests\n",
        "\n",
        "\n",
        "from torch.utils.data import DataLoader, TensorDataset, random_split\n",
        "from torch.utils.data import Dataset, DataLoader\n",
        "from lightning.pytorch.loggers import WandbLogger\n",
        "from sklearn.model_selection import train_test_split\n",
        "from torchmetrics.classification import Accuracy, MulticlassConfusionMatrix\n",
        "from pytorch_lightning.utilities.model_summary import ModelSummary\n",
        "from torch import argmax\n",
        "from sklearn.preprocessing import StandardScaler\n",
        "\n"
      ]
    },
    {
      "cell_type": "code",
      "source": [
        "from google.colab import drive\n",
        "drive.mount('/content/drive')\n",
        "\n",
        "!git clone https://github.com/Strojove-uceni/23206-final-acoustic-emission-classification.git\n"
      ],
      "metadata": {
        "colab": {
          "base_uri": "https://localhost:8080/"
        },
        "id": "77Wnpv2GJ5dE",
        "outputId": "6b714df0-784a-4dad-d7de-b75fc2485ab0"
      },
      "execution_count": 2,
      "outputs": [
        {
          "output_type": "stream",
          "name": "stdout",
          "text": [
            "Mounted at /content/drive\n",
            "Cloning into '23206-final-acoustic-emission-classification'...\n",
            "remote: Enumerating objects: 19, done.\u001b[K\n",
            "remote: Counting objects: 100% (19/19), done.\u001b[K\n",
            "remote: Compressing objects: 100% (15/15), done.\u001b[K\n",
            "remote: Total 19 (delta 4), reused 4 (delta 0), pack-reused 0\u001b[K\n",
            "Receiving objects: 100% (19/19), 5.29 KiB | 5.29 MiB/s, done.\n",
            "Resolving deltas: 100% (4/4), done.\n"
          ]
        }
      ]
    },
    {
      "cell_type": "code",
      "source": [
        "path = '/content/23206-final-acoustic-emission-classification/Test_dataset_seed=43.pkl'\n",
        "with open(path, 'rb') as pickle_file:\n",
        "            loaded_data = pickle.load(pickle_file)\n",
        "X_test = loaded_data['X_test']\n",
        "X_test = np.moveaxis(X_test,1,2)\n",
        "y_test = loaded_data['y_test']"
      ],
      "metadata": {
        "id": "mxo_-3KiJuzD"
      },
      "execution_count": 5,
      "outputs": []
    },
    {
      "cell_type": "code",
      "source": [
        "X_test.shape"
      ],
      "metadata": {
        "colab": {
          "base_uri": "https://localhost:8080/"
        },
        "id": "fX5fPbfXF0VO",
        "outputId": "937bcd68-667e-4901-887b-e3e521b2e1e7"
      },
      "execution_count": 6,
      "outputs": [
        {
          "output_type": "execute_result",
          "data": {
            "text/plain": [
              "(1250, 4, 6000)"
            ]
          },
          "metadata": {},
          "execution_count": 6
        }
      ]
    }
  ]
}